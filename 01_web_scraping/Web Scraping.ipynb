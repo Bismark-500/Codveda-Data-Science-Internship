{
 "cells": [
  {
   "cell_type": "markdown",
   "id": "075f8bf5-3af8-4ace-8921-e17b8e5db026",
   "metadata": {},
   "source": [
    "# TASK 1(a): WEB SCRAPING "
   ]
  },
  {
   "cell_type": "markdown",
   "id": "fd176057-498d-4a33-91c6-525b16288538",
   "metadata": {},
   "source": [
    "Requirements:\n",
    "Identify target website & inspect structure\n",
    "Use requests + BeautifulSoup\n",
    "Extract structured data\n",
    "Handle pagination"
   ]
  },
  {
   "cell_type": "code",
   "execution_count": 1,
   "id": "26e0477e-e30c-4fd5-883b-c76c9f075e4e",
   "metadata": {},
   "outputs": [],
   "source": [
    "import requests\n",
    "from bs4 import BeautifulSoup\n",
    "import pandas as pd\n",
    "import time"
   ]
  },
  {
   "cell_type": "code",
   "execution_count": 2,
   "id": "352dad74-9d3c-41f4-b777-75863bfcdc14",
   "metadata": {},
   "outputs": [],
   "source": [
    "# Base URL of the site to be scraped \n",
    "BASE_URL = \"http://books.toscrape.com/catalogue/page-{}.html\""
   ]
  },
  {
   "cell_type": "code",
   "execution_count": 3,
   "id": "87298c37-beeb-488b-bae5-735de0621a40",
   "metadata": {},
   "outputs": [],
   "source": [
    "# List to store extracted book data\n",
    "books = []"
   ]
  },
  {
   "cell_type": "code",
   "execution_count": 4,
   "id": "07cd0243-e8dc-4f84-b8b8-299461247bfa",
   "metadata": {},
   "outputs": [],
   "source": [
    "# Scraping the first page\n",
    "\n",
    "url = \"http://books.toscrape.com/catalogue/page-1.html\"\n",
    "response = requests.get(url)\n",
    "soup = BeautifulSoup(response.text, \"html.parser\")\n",
    "items = soup.find_all(\"article\", class_=\"product_pod\")\n",
    "\n",
    "for item in items:\n",
    "    title = item.h3.a[\"title\"]\n",
    "    price = item.find(\"p\", class_=\"price_color\").text\n",
    "    availability = item.find(\"p\", class_=\"instock availability\").text.strip()\n",
    "    rating = item.p[\"class\"][1]\n",
    "    \n",
    "    books.append({\n",
    "        \"title\": title,\n",
    "        \"price\": price,\n",
    "        \"availability\": availability,\n",
    "        \"rating\": rating\n",
    "    })"
   ]
  },
  {
   "cell_type": "code",
   "execution_count": 5,
   "id": "cc425715-8a0a-4839-8c91-38f8f9306a4f",
   "metadata": {},
   "outputs": [],
   "source": [
    "# Pagination: Looping through to find and scrape all book items (page 1 to page 50)\n",
    "\n",
    "items = soup.find_all(\"article\", class_=\"product_pod\")\n",
    "\n",
    "for page in range(2, 51):\n",
    "    url = f\"http://books.toscrape.com/catalogue/page-{page}.html\"\n",
    "    response = requests.get(url)\n",
    "    soup = BeautifulSoup(response.text, \"html.parser\")\n",
    "    items = soup.find_all(\"article\", class_=\"product_pod\")\n",
    "    if not items:\n",
    "        break\n",
    "    \n",
    "    for item in items:\n",
    "        title = item.h3.a[\"title\"]\n",
    "        price = item.find(\"p\", class_=\"price_color\").text\n",
    "        availability = item.find(\"p\", class_=\"instock availability\").text.strip()\n",
    "        rating = item.p[\"class\"][1]\n",
    "        \n",
    "        books.append({\n",
    "            \"title\": title,\n",
    "            \"price\": price,\n",
    "            \"availability\": availability,\n",
    "            \"rating\": rating\n",
    "        })"
   ]
  },
  {
   "cell_type": "code",
   "execution_count": 6,
   "id": "8e4ab3c2-418a-4707-af6a-76d98975b1cb",
   "metadata": {},
   "outputs": [
    {
     "name": "stdout",
     "output_type": "stream",
     "text": [
      "Total books collected: 1000\n",
      "[{'title': 'A Light in the Attic', 'price': 'Â£51.77', 'availability': 'In stock', 'rating': 'Three'}, {'title': 'Tipping the Velvet', 'price': 'Â£53.74', 'availability': 'In stock', 'rating': 'One'}, {'title': 'Soumission', 'price': 'Â£50.10', 'availability': 'In stock', 'rating': 'One'}, {'title': 'Sharp Objects', 'price': 'Â£47.82', 'availability': 'In stock', 'rating': 'Four'}, {'title': 'Sapiens: A Brief History of Humankind', 'price': 'Â£54.23', 'availability': 'In stock', 'rating': 'Five'}]\n"
     ]
    }
   ],
   "source": [
    "# Previewing first few results\n",
    "print(f\"Total books collected: {len(books)}\")\n",
    "print(books[:5])"
   ]
  },
  {
   "cell_type": "code",
   "execution_count": 7,
   "id": "a0561a15-aa26-4f8d-949c-68923f157f30",
   "metadata": {},
   "outputs": [
    {
     "name": "stdout",
     "output_type": "stream",
     "text": [
      "(1000, 4)\n"
     ]
    }
   ],
   "source": [
    "# Converting to and saving as DataFrame\n",
    "df = pd.DataFrame(books) \n",
    "df.to_csv(\"books_data.csv\", index=False) \n",
    "print(df.shape)"
   ]
  },
  {
   "cell_type": "code",
   "execution_count": 8,
   "id": "1fd0387c-e1a5-4797-b47d-90f82e886ddb",
   "metadata": {},
   "outputs": [
    {
     "data": {
      "text/html": [
       "<div>\n",
       "<style scoped>\n",
       "    .dataframe tbody tr th:only-of-type {\n",
       "        vertical-align: middle;\n",
       "    }\n",
       "\n",
       "    .dataframe tbody tr th {\n",
       "        vertical-align: top;\n",
       "    }\n",
       "\n",
       "    .dataframe thead th {\n",
       "        text-align: right;\n",
       "    }\n",
       "</style>\n",
       "<table border=\"1\" class=\"dataframe\">\n",
       "  <thead>\n",
       "    <tr style=\"text-align: right;\">\n",
       "      <th></th>\n",
       "      <th>title</th>\n",
       "      <th>price</th>\n",
       "      <th>availability</th>\n",
       "      <th>rating</th>\n",
       "    </tr>\n",
       "  </thead>\n",
       "  <tbody>\n",
       "    <tr>\n",
       "      <th>0</th>\n",
       "      <td>A Light in the Attic</td>\n",
       "      <td>Â£51.77</td>\n",
       "      <td>In stock</td>\n",
       "      <td>Three</td>\n",
       "    </tr>\n",
       "    <tr>\n",
       "      <th>1</th>\n",
       "      <td>Tipping the Velvet</td>\n",
       "      <td>Â£53.74</td>\n",
       "      <td>In stock</td>\n",
       "      <td>One</td>\n",
       "    </tr>\n",
       "    <tr>\n",
       "      <th>2</th>\n",
       "      <td>Soumission</td>\n",
       "      <td>Â£50.10</td>\n",
       "      <td>In stock</td>\n",
       "      <td>One</td>\n",
       "    </tr>\n",
       "    <tr>\n",
       "      <th>3</th>\n",
       "      <td>Sharp Objects</td>\n",
       "      <td>Â£47.82</td>\n",
       "      <td>In stock</td>\n",
       "      <td>Four</td>\n",
       "    </tr>\n",
       "    <tr>\n",
       "      <th>4</th>\n",
       "      <td>Sapiens: A Brief History of Humankind</td>\n",
       "      <td>Â£54.23</td>\n",
       "      <td>In stock</td>\n",
       "      <td>Five</td>\n",
       "    </tr>\n",
       "  </tbody>\n",
       "</table>\n",
       "</div>"
      ],
      "text/plain": [
       "                                   title    price availability rating\n",
       "0                   A Light in the Attic  Â£51.77     In stock  Three\n",
       "1                     Tipping the Velvet  Â£53.74     In stock    One\n",
       "2                             Soumission  Â£50.10     In stock    One\n",
       "3                          Sharp Objects  Â£47.82     In stock   Four\n",
       "4  Sapiens: A Brief History of Humankind  Â£54.23     In stock   Five"
      ]
     },
     "execution_count": 8,
     "metadata": {},
     "output_type": "execute_result"
    }
   ],
   "source": [
    "df.head()"
   ]
  },
  {
   "cell_type": "code",
   "execution_count": 9,
   "id": "da8283cc-c561-4d2a-ba92-a6eaa12caf6f",
   "metadata": {},
   "outputs": [
    {
     "data": {
      "text/plain": [
       "(1000, 4)"
      ]
     },
     "execution_count": 9,
     "metadata": {},
     "output_type": "execute_result"
    }
   ],
   "source": [
    "df.shape"
   ]
  },
  {
   "cell_type": "code",
   "execution_count": null,
   "id": "9649c13f-6755-495d-84ea-d1694f458d00",
   "metadata": {},
   "outputs": [],
   "source": []
  }
 ],
 "metadata": {
  "kernelspec": {
   "display_name": "Python 3 (ipykernel)",
   "language": "python",
   "name": "python3"
  },
  "language_info": {
   "codemirror_mode": {
    "name": "ipython",
    "version": 3
   },
   "file_extension": ".py",
   "mimetype": "text/x-python",
   "name": "python",
   "nbconvert_exporter": "python",
   "pygments_lexer": "ipython3",
   "version": "3.13.1"
  }
 },
 "nbformat": 4,
 "nbformat_minor": 5
}
